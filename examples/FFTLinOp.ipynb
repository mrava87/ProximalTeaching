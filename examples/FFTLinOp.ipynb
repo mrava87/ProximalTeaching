{
 "cells": [
  {
   "cell_type": "markdown",
   "id": "6359d3e8",
   "metadata": {
    "editable": true,
    "slideshow": {
     "slide_type": ""
    },
    "tags": []
   },
   "source": [
    "# FFT as Linear Operator\n",
    "\n",
    "**Author: M. Ravasi, KAUST**"
   ]
  },
  {
   "cell_type": "markdown",
   "id": "85a0c7d4",
   "metadata": {},
   "source": [
    "Welcome to the first exercise of the **An introduction to proximal solvers for engineers** course!\n",
    "\n",
    "The aim of this tutorial is to:\n",
    "\n",
    "- Introduce the concept of *linear operator* and the difference with dense matrices in both computation time and memory load;\n",
    "- Show how PyLops can be used to set-up linear operators and solve inverse problems in Python;"
   ]
  },
  {
   "cell_type": "markdown",
   "id": "4780ec61",
   "metadata": {},
   "source": [
    "Let's first import the libraries we need in this tutorial"
   ]
  },
  {
   "cell_type": "code",
   "execution_count": 1,
   "id": "c537d228",
   "metadata": {
    "editable": true,
    "slideshow": {
     "slide_type": ""
    },
    "tags": []
   },
   "outputs": [],
   "source": [
    "# Run this when using Colab (will install the missing libraries)\n",
    "# !pip install pylops pympler pynufft pyproximal"
   ]
  },
  {
   "cell_type": "code",
   "execution_count": 2,
   "id": "8926d447",
   "metadata": {},
   "outputs": [],
   "source": [
    "%load_ext autoreload\n",
    "%autoreload 2\n",
    "%matplotlib inline\n",
    "\n",
    "import warnings\n",
    "warnings.filterwarnings('ignore')\n",
    "\n",
    "import numpy as np\n",
    "import scipy as sp\n",
    "import matplotlib.pyplot as plt\n",
    "import pympler\n",
    "import pyproximal\n",
    "\n",
    "from pynufft import NUFFT\n",
    "\n",
    "from pylops import FirstDerivative, MatrixMult, Restriction, SecondDerivative\n",
    "from pylops.signalprocessing import FFT\n",
    "from pylops.optimization.leastsquares import regularized_inversion\n",
    "from pylops.utils import dottest\n",
    "\n",
    "from fft import *\n",
    "from nufft import *"
   ]
  },
  {
   "cell_type": "markdown",
   "id": "8c7b534b",
   "metadata": {},
   "source": [
    "## The Fourier Transform\n",
    "\n",
    "The Fourier Transform is a powerful tool in signal processing to decompose a signal into a linear combination of complex sinusoids:\n",
    "\n",
    "$$\n",
    "X(f) = \\int x(t) e^{-j 2 \\pi f t} dt\n",
    "$$\n",
    "\n",
    "whose inverse is represented by \n",
    "\n",
    "$$\n",
    "x(t) = \\int X(f) e^{j 2 \\pi f t} df\n",
    "$$\n",
    "\n",
    "In practice, this integral is discretized giving rise to the Discrete Fourier Transform (DFT):\n",
    "\n",
    "$$\n",
    "X_k = \\frac{1}{\\sqrt{N}}\\sum_{n=0}^{N-1} x_n e^{-j 2 \\pi \\frac{k}{N} n}\n",
    "$$\n",
    "\n",
    "and its inverse:\n",
    "\n",
    "$$\n",
    "x_n = \\frac{1}{\\sqrt{N}}\\sum_{k=0}^{N-1} X_k e^{j 2 \\pi \\frac{k}{N} n}\n",
    "$$\n",
    "\n",
    "Note the presence of the $1/\\sqrt{N}$ factor in front of both the forward and inverse DFT. This is to allow symmetry between the two operations and ensure that the inverse is also the adjoint. We will come back to this point later.\n",
    "\n",
    "Let's now put what we have learned into practice.\n",
    "\n"
   ]
  },
  {
   "cell_type": "code",
   "execution_count": 3,
   "id": "c7e2c286",
   "metadata": {},
   "outputs": [],
   "source": [
    "# Time axis\n",
    "dt = 0.004 # time sampling (seconds)\n",
    "nt = 1024 # number of time samples\n",
    "t = np.arange(nt) * dt\n",
    "\n",
    "# Frequencies and amplitudes\n",
    "f0 = [2, 4, 5]\n",
    "a = [1, 0.5, 3]\n",
    "\n",
    "# Create signal\n",
    "x = np.sum([a_* np.sin(2*np.pi*f_*t)for f_, a_ in zip (f0, a)], axis=0)\n",
    "\n",
    "plt.figure(figsize=(15, 3))\n",
    "plt.plot(t, x, 'k', lw=2)\n",
    "plt.xlabel('T [s]')\n",
    "plt.axis('tight');"
   ]
  },
  {
   "cell_type": "code",
   "execution_count": 4,
   "id": "bb2c637e",
   "metadata": {},
   "outputs": [],
   "source": [
    "# Compute DFT\n",
    "X, D = DFT(x)\n",
    "f = np.fft.rfftfreq(nt, dt)\n",
    "\n",
    "plt.figure(figsize=(15, 3))\n",
    "plt.plot(f[:nt//2], np.abs(X[:nt//2]), 'k', lw=2)\n",
    "plt.xlabel('F [Hz]')\n",
    "plt.axis('tight')\n",
    "plt.xlim(0, 10);\n",
    "\n",
    "fig, axs = plt.subplots(1, 2, figsize=(15, 3))\n",
    "axs[0].imshow(D.real)\n",
    "axs[0].set_title('Re(DFT)')\n",
    "axs[0].axis('tight')\n",
    "axs[1].imshow(D.imag)\n",
    "axs[1].set_title('Im(DFT)')\n",
    "axs[1].axis('tight');"
   ]
  },
  {
   "cell_type": "code",
   "execution_count": 5,
   "id": "d990a32a",
   "metadata": {},
   "outputs": [],
   "source": [
    "# Compute FFT\n",
    "Xf = np.fft.rfft(x)\n",
    "\n",
    "plt.figure(figsize=(15, 3))\n",
    "plt.plot(f[:nt//2], np.abs(X[:nt//2]), 'k', lw=2, label='DFT')\n",
    "plt.plot(f[:nt//2], np.abs(Xf[:nt//2]), '--r', lw=2, label='FFT')\n",
    "plt.xlabel('F [Hz]')\n",
    "plt.axis('tight')\n",
    "plt.xlim(0, 10);"
   ]
  },
  {
   "cell_type": "markdown",
   "id": "2bd394a6",
   "metadata": {},
   "source": [
    "### Timings"
   ]
  },
  {
   "cell_type": "code",
   "execution_count": 6,
   "id": "c3b0374a",
   "metadata": {},
   "outputs": [],
   "source": [
    "def FFT_time(n):\n",
    "    \"\"\"Timing of of DFT/FFT operator\n",
    "    \"\"\"\n",
    "    x = np.arange(n)\n",
    "    _, D = DFT(x)\n",
    "    Dop = FFT(n, engine='scipy', real=True)\n",
    "    \n",
    "    print('Timings for DFT, FFT-scipy, FFT-pylops(scipy)')\n",
    "    %timeit -n 5 -r 2 np.dot(D, x)\n",
    "    %timeit -n 5 -r 2 sp.fft.rfft(x)\n",
    "    %timeit -n 5 -r 2 Dop.matvec(x)"
   ]
  },
  {
   "cell_type": "code",
   "execution_count": 7,
   "id": "757e485f",
   "metadata": {},
   "outputs": [
    {
     "name": "stdout",
     "output_type": "stream",
     "text": [
      "Timings for DFT, FFT-scipy, FFT-pylops(scipy)\n",
      "1.95 ms ± 71.8 μs per loop (mean ± std. dev. of 2 runs, 5 loops each)\n",
      "The slowest run took 10.78 times longer than the fastest. This could mean that an intermediate result is being cached.\n",
      "74 μs ± 61.4 μs per loop (mean ± std. dev. of 2 runs, 5 loops each)\n",
      "25.9 μs ± 7.24 μs per loop (mean ± std. dev. of 2 runs, 5 loops each)\n"
     ]
    }
   ],
   "source": [
    "nt_time = 2 **12\n",
    "FFT_time(nt_time)"
   ]
  },
  {
   "cell_type": "markdown",
   "id": "140c43c3",
   "metadata": {},
   "source": [
    "### Memory"
   ]
  },
  {
   "cell_type": "code",
   "execution_count": 8,
   "id": "c871d887",
   "metadata": {},
   "outputs": [],
   "source": [
    "FFT_memory()"
   ]
  },
  {
   "cell_type": "markdown",
   "id": "bbec1e61",
   "metadata": {},
   "source": [
    "## The Fourier transform as Linear Operator\n",
    "\n",
    "At this point, we know that we can create the Fourier operator in two different ways (and which one is best from both a computational and memory standpoint). \n",
    "\n",
    "But can we do the same with the inverse Fourier transform and create a linear operator that passes the dot-test?"
   ]
  },
  {
   "cell_type": "code",
   "execution_count": 9,
   "id": "43d92220",
   "metadata": {},
   "outputs": [
    {
     "name": "stdout",
     "output_type": "stream",
     "text": [
      "Dot test passed, v^H(Opu)=(-31.711876410733513+10.345085198559927j) - u^H(Op^Hv)=(-31.71187641073354+10.34508519855993j)\n"
     ]
    }
   ],
   "source": [
    "# Again DFT\n",
    "DCTop = MatrixMult(D / np.sqrt(nt//2 + 1), dtype=np.complex128)\n",
    "\n",
    "dottest(DCTop, verb=True);"
   ]
  },
  {
   "cell_type": "code",
   "execution_count": 10,
   "id": "8ac9187b",
   "metadata": {},
   "outputs": [
    {
     "name": "stdout",
     "output_type": "stream",
     "text": [
      "Dot test passed, v^H(Opu)=-5.0041072787065985 - u^H(Op^Hv)=-5.00410727870657\n"
     ]
    }
   ],
   "source": [
    "# FFT\n",
    "FFTop = FFT(nt, engine='scipy', real=True)\n",
    "    \n",
    "dottest(FFTop, complexflag=2, verb=True);"
   ]
  },
  {
   "cell_type": "code",
   "execution_count": 11,
   "id": "51bc4800",
   "metadata": {},
   "outputs": [],
   "source": [
    "Xd = DCTop @ x\n",
    "Xf = FFTop @ x\n",
    "\n",
    "xadjd = DCTop.H @ Xd\n",
    "xadjf = FFTop.H @ Xf"
   ]
  },
  {
   "cell_type": "code",
   "execution_count": 12,
   "id": "0d70eb26",
   "metadata": {},
   "outputs": [],
   "source": [
    "plt.figure(figsize=(15, 3))\n",
    "plt.plot(f[:nt//2], np.abs(Xd[:nt//2]), 'k', lw=2, label='DFT')\n",
    "plt.plot(f[:nt//2], np.abs(Xf[:nt//2]), '--r', lw=2, label='FFT')\n",
    "plt.xlabel('F [Hz]')\n",
    "plt.axis('tight')\n",
    "plt.xlim(0, 10);\n",
    "\n",
    "plt.figure(figsize=(15, 3))\n",
    "plt.plot(t, xadjd.real, 'k', lw=2, label='DFT')\n",
    "plt.plot(t, xadjf, '--r', lw=2, label='FFT')\n",
    "plt.xlabel('T [s]')\n",
    "plt.axis('tight');"
   ]
  },
  {
   "cell_type": "markdown",
   "id": "8115165d",
   "metadata": {},
   "source": [
    "As you can see, we have created two linear operators that do produce the exact same results, although implementing the FFT differently"
   ]
  },
  {
   "cell_type": "markdown",
   "id": "abfa6376",
   "metadata": {},
   "source": [
    "## Subsampled Fourier transform\n",
    "\n",
    "Let's now consider an example where we want to reconstruct a signal from a subsampled Fourier trasform:\n",
    "\n",
    "$$\n",
    "\\mathbf{y} = \\mathbf{RF}\\mathbf{x}\n",
    "$$\n",
    "\n",
    "where $\\mathbf{F}$ and $\\mathbf{R}$ are the FFT and restriction operators, respectively. Note that, alternatively, one could use the Non-Uniform FFT (NUFFT) to perform both operations simultaneously. We will look into this towards the end of this lab.\n",
    "\n",
    "The goal of this exercise is NOT to retrieve a good representation of the input signal from few Fourier coefficients (we will see that this is very difficult in 1D) but to get a feeling once again for how a linear operator can be used within a classical gradient-based iterative solver as well as within a proximal solver. However, to make the example meaningful, I have decided to always retain the first 5 samples of the Fourier representation of the signal, and to discard anything in the very high frequency part of the spectrum."
   ]
  },
  {
   "cell_type": "code",
   "execution_count": 13,
   "id": "6370d419",
   "metadata": {},
   "outputs": [],
   "source": [
    "x = np.zeros(nt)\n",
    "x[nt//20: nt // 10] = 10\n",
    "x[nt // 5 : nt // 4] = -5\n",
    "x[3 * nt // 4 : 6 * nt // 7] = 3\n",
    "\n",
    "X = FFTop @ x"
   ]
  },
  {
   "cell_type": "code",
   "execution_count": 14,
   "id": "b0814c41",
   "metadata": {},
   "outputs": [
    {
     "name": "stdout",
     "output_type": "stream",
     "text": [
      "Fourier domain subsampling factor: 1.7\n"
     ]
    }
   ],
   "source": [
    "# Create subsampled Fourier domain\n",
    "np.random.seed(10)\n",
    "\n",
    "ntsub = 20 # play with this...\n",
    "ifava = np.hstack([np.arange(5), np.random.permutation(np.arange(5, nt//10))[:ntsub]])\n",
    "Rop = Restriction(nt//2+1, ifava, dtype=np.complex128)\n",
    "y = Rop @ FFTop @ x\n",
    "\n",
    "print('Fourier domain subsampling factor:', ((nt//20)/30))\n",
    "\n",
    "plt.figure(figsize=(15, 3))\n",
    "plt.plot(f, np.abs(X), 'k', lw=2)\n",
    "plt.plot(f[ifava], np.abs(y), '.k', ms=20)\n",
    "plt.xlabel('F [Hz]')\n",
    "plt.axis('tight')\n",
    "plt.xlim(0, 40);"
   ]
  },
  {
   "cell_type": "code",
   "execution_count": 15,
   "id": "c8624683",
   "metadata": {},
   "outputs": [],
   "source": [
    "D2op = SecondDerivative(nt, edge=True, dtype=np.complex128)\n",
    "alpha = 1e2\n",
    "\n",
    "xinv = regularized_inversion(\n",
    "    Rop @ FFTop, y, [D2op], epsRs=[np.sqrt(alpha / 2)], **dict(iter_lim=30))[0].real\n",
    "\n",
    "plt.figure(figsize=(15, 4))\n",
    "plt.plot(x, \"k\", lw=3, label=\"x\")\n",
    "plt.plot(xinv, \"r\", lw=5, label=\"L2-reg\")\n",
    "plt.legend();"
   ]
  },
  {
   "cell_type": "code",
   "execution_count": 16,
   "id": "87a1d8dc",
   "metadata": {},
   "outputs": [],
   "source": [
    "D2op = FirstDerivative(nt, edge=True, kind='backward', dtype=np.complex128)\n",
    "F = pyproximal.L2(Rop @ FFTop, y, niter=20)\n",
    "G = pyproximal.L1(3.)\n",
    "\n",
    "L = (D2op.H @ D2op).eigs(1)[0].real\n",
    "tau = 1.\n",
    "mu = tau / L\n",
    "xtv = pyproximal.optimization.primal.LinearizedADMM(F, G, D2op, np.zeros_like(x).astype(np.complex128),\n",
    "                                                    tau, mu, niter=500, show=False)[0].real\n",
    "\n",
    "plt.figure(figsize=(15, 4))\n",
    "plt.plot(x, \"k\", lw=3, label=\"x\")\n",
    "plt.plot(xinv, \"r\", lw=5, label=\"L2-reg\")\n",
    "plt.plot(xtv, \"g\", lw=5, label=\"TV-reg\")\n",
    "plt.legend();"
   ]
  },
  {
   "cell_type": "markdown",
   "id": "a9e65e3c-e333-4344-9af3-d3adf06b3837",
   "metadata": {},
   "source": [
    "Finally, let's explore an alternative approach to compute $\\mathbf{RF}\\mathbf{x}$ that takes advantage of non-uniform Fast Fourier transform in the [pynufft](https://github.com/pynufft/pynufft) library.\n",
    "\n",
    "First we test the ``NonUniformFFT`` operator that I created in PyLops for you."
   ]
  },
  {
   "cell_type": "code",
   "execution_count": 17,
   "id": "c21a739e-c16c-43b1-af3d-0c2e9a0b22ac",
   "metadata": {},
   "outputs": [
    {
     "name": "stdout",
     "output_type": "stream",
     "text": [
      "Dot test passed, v^H(Opu)=(42.30821271097315+36.37526642548721j) - u^H(Op^Hv)=(42.30821238236419+36.37526602438129j)\n",
      "Dot test passed, v^H(Opu)=(-1.8470434063559837-10.13677919322447j) - u^H(Op^Hv)=(-1.8470425411087037-10.136778850224367j)\n"
     ]
    }
   ],
   "source": [
    "# Full transform\n",
    "ff = np.arange(-np.pi, np.pi, 2*np.pi/nt).reshape(-1, 1)\n",
    "NUFFTOp = NonUniformFFT(nt, ff)\n",
    "dottest(NUFFTOp, complexflag=1, verb=True)\n",
    "\n",
    "# Partial transform\n",
    "ntsub = nt // 4\n",
    "ifava = np.random.permutation(np.arange(nt))[:ntsub]\n",
    "ff = np.arange(-np.pi, np.pi, 2*np.pi/nt)[ifava].reshape(-1, 1)\n",
    "NUFFTOp = NonUniformFFT(nt, ff)\n",
    "dottest(NUFFTOp, complexflag=1, verb=True);"
   ]
  },
  {
   "cell_type": "code",
   "execution_count": 18,
   "id": "0b30d7f5-c205-4adf-b499-0af49518ff50",
   "metadata": {},
   "outputs": [],
   "source": [
    "# Create subsampled Fourier domain\n",
    "np.random.seed(10)\n",
    "\n",
    "ntsub = 40 # play with this...\n",
    "ifava = np.hstack([np.arange(10), np.random.permutation(np.arange(10, nt//5))[:ntsub]])\n",
    "\n",
    "FFTop = FFT(nt, nfft=2*nt, engine='numpy', sampling=dt)\n",
    "Rop = Restriction(2*nt, ifava, dtype=np.complex128)\n",
    "\n",
    "f = FFTop.f\n",
    "ff = np.sort(f[ifava]).reshape(-1, 1) * (2 * np.pi * dt)\n",
    "NUFFTOp = NonUniformFFT(nt, ff)\n",
    "\n",
    "X = FFTop @ x\n",
    "Xnufft = NUFFTOp @ x\n",
    "\n",
    "plt.figure(figsize=(15, 3))\n",
    "plt.plot(f[:nt], np.abs(X)[:nt], '.-k', lw=2)\n",
    "plt.plot(f[ifava], np.abs(Rop @ X), '.k', ms=10)\n",
    "plt.plot(ff / (2 * np.pi * dt), np.abs(Xnufft), '.r', ms=5)\n",
    "plt.xlabel('F [Hz]')\n",
    "plt.axis('tight')\n",
    "plt.xlim(0, 20);"
   ]
  },
  {
   "cell_type": "code",
   "execution_count": 19,
   "id": "860215d2-86be-44d9-9978-71c0cc7bdd73",
   "metadata": {},
   "outputs": [],
   "source": [
    "# Inversion\n",
    "D2op = SecondDerivative(nt, edge=True, dtype=np.complex128)\n",
    "alpha = 1e2\n",
    "\n",
    "xinv = regularized_inversion(\n",
    "    NUFFTOp, Xnufft, [D2op], epsRs=[np.sqrt(alpha / 2)], **dict(iter_lim=30))[0].real\n",
    "\n",
    "plt.figure(figsize=(15, 4))\n",
    "plt.plot(x, \"k\", lw=3, label=\"x\")\n",
    "plt.plot(xinv, \"r\", lw=5, label=\"L2-reg\")\n",
    "plt.legend();"
   ]
  },
  {
   "cell_type": "code",
   "execution_count": 20,
   "id": "5017f6e5-deb8-4757-a077-b5755b6fa514",
   "metadata": {},
   "outputs": [],
   "source": [
    "D2op = FirstDerivative(nt, edge=True, kind='backward', dtype=np.complex128)\n",
    "F = pyproximal.L2(NUFFTOp, Xnufft, niter=20)\n",
    "G = pyproximal.L1(3.)\n",
    "\n",
    "L = (D2op.H @ D2op).eigs(1)[0].real\n",
    "tau = 1.\n",
    "mu = tau / L\n",
    "xtv = pyproximal.optimization.primal.LinearizedADMM(F, G, D2op, np.zeros(nt).astype(np.complex128),\n",
    "                                                    tau, mu, niter=500, show=False)[0].real\n",
    "\n",
    "plt.figure(figsize=(15, 4))\n",
    "plt.plot(x, \"k\", lw=3, label=\"x\")\n",
    "plt.plot(xinv, \"r\", lw=5, label=\"L2-reg\")\n",
    "plt.plot(xtv, \"g\", lw=5, label=\"TV-reg\")\n",
    "plt.legend();"
   ]
  },
  {
   "cell_type": "markdown",
   "id": "9e0f2bd9-1f85-427d-aa29-722a8090e266",
   "metadata": {},
   "source": [
    "Finally, let's consider a much larger signal and compare the two different approaches used so far to obtain irregularly sampled values in the Fourier domain"
   ]
  },
  {
   "cell_type": "code",
   "execution_count": 21,
   "id": "378acc2c-aec3-4a33-905c-b447940fd7c5",
   "metadata": {},
   "outputs": [],
   "source": [
    "# Create subsampled Fourier domain\n",
    "np.random.seed(10)\n",
    "\n",
    "nt = 2 ** 18\n",
    "ntsub = 20\n",
    "ifava = np.random.permutation(np.arange(2*nt))[:ntsub]\n",
    "\n",
    "FFTop = FFT(nt, nfft=2*nt, engine='numpy', sampling=dt)\n",
    "Rop = Restriction(2*nt, ifava, dtype=np.complex128)\n",
    "\n",
    "f = FFTop.f\n",
    "ff = np.sort(f[ifava]).reshape(-1, 1) * (2 * np.pi * dt)\n",
    "NUFFTOp = NonUniformFFT(nt, ff)\n",
    "\n",
    "x = np.ones(nt)"
   ]
  },
  {
   "cell_type": "code",
   "execution_count": 22,
   "id": "6a8901d4-d1b5-4d2e-ad9e-039fdbff88e6",
   "metadata": {},
   "outputs": [
    {
     "name": "stdout",
     "output_type": "stream",
     "text": [
      "8.27 ms ± 824 μs per loop (mean ± std. dev. of 5 runs, 5 loops each)\n",
      "9.45 ms ± 961 μs per loop (mean ± std. dev. of 5 runs, 5 loops each)\n"
     ]
    }
   ],
   "source": [
    "%timeit -n 5 -r 5 Rop @ FFTop @ x\n",
    "%timeit -n 5 -r 5 NUFFTOp @ x"
   ]
  },
  {
   "cell_type": "markdown",
   "id": "2b9997a3",
   "metadata": {
    "editable": true,
    "slideshow": {
     "slide_type": ""
    },
    "tags": []
   },
   "source": [
    "## Recap\n",
    "\n",
    "In this first tutorial we have learned to:\n",
    "\n",
    "- perform the Fourier transform with a linear operator implementing the FFT (instead of a dense matrix implementing the DFT);\n",
    "- use PyLops FFT linear operators to solve a simple optimization problem.\n",
    "- build a custom PyLops operator with PyNUFFT and solve the same simple optimization problem."
   ]
  }
 ],
 "metadata": {
  "kernelspec": {
   "display_name": "Python 3 (ipykernel)",
   "language": "python",
   "name": "python3"
  },
  "language_info": {
   "codemirror_mode": {
    "name": "ipython",
    "version": 3
   },
   "file_extension": ".py",
   "mimetype": "text/x-python",
   "name": "python",
   "nbconvert_exporter": "python",
   "pygments_lexer": "ipython3",
   "version": "3.10.15"
  },
  "toc": {
   "base_numbering": 1,
   "nav_menu": {},
   "number_sections": true,
   "sideBar": true,
   "skip_h1_title": false,
   "title_cell": "Table of Contents",
   "title_sidebar": "Contents",
   "toc_cell": false,
   "toc_position": {},
   "toc_section_display": true,
   "toc_window_display": true
  }
 },
 "nbformat": 4,
 "nbformat_minor": 5
}
